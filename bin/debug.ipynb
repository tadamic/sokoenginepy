{
 "cells": [
  {
   "cell_type": "code",
   "execution_count": 1,
   "metadata": {
    "collapsed": false
   },
   "outputs": [],
   "source": [
    "from sokoenginepy.variant.board_graph_graphtool import BoardGraph as BoardGraphGT\n",
    "from sokoenginepy.variant.board_graph_networkx import BoardGraph as BoardGraphNX\n",
    "from sokoenginepy.variant import GraphType\n",
    "from sokoenginepy.core import Tessellation\n",
    "from sokoenginepy import BoardCell, Direction, Variant"
   ]
  },
  {
   "cell_type": "code",
   "execution_count": 2,
   "metadata": {
    "collapsed": false
   },
   "outputs": [],
   "source": [
    "b = BoardGraphGT(6 * 7, GraphType.DIRECTED)\n",
    "b.reconfigure_edges(6, 7, Tessellation.factory(Variant.SOKOBAN))\n",
    "g = b._graph"
   ]
  },
  {
   "cell_type": "code",
   "execution_count": 3,
   "metadata": {
    "collapsed": false
   },
   "outputs": [
    {
     "name": "stdout",
     "output_type": "stream",
     "text": [
      "cell           (vertex)  (type: python::object)\n",
      "direction      (edge)    (type: python::object)\n",
      "weight         (edge)    (type: int32_t)\n"
     ]
    }
   ],
   "source": [
    "g.list_properties()"
   ]
  },
  {
   "cell_type": "code",
   "execution_count": 4,
   "metadata": {
    "collapsed": false
   },
   "outputs": [
    {
     "data": {
      "text/plain": [
       "<PropertyMap object with key type 'Edge' and value type 'int32_t', for Graph 0x7f3640548e10, at 0x7f3640548f98, with values:\n",
       "[0 0 0 0 0 0 0 0 0 0 0 0 0 0 0 0 0 0 0 0 0 0 0 0 0 0 0 0 0 0 0 0 0 0 0 0 0\n",
       " 0 0 0 0 0 0 0 0 0 0 0 0 0 0 0 0 0 0 0 0 0 0 0 0 0 0 0 0 0 0 0 0 0 0 0 0 0\n",
       " 0 0 0 0 0 0 0 0 0 0 0 0 0 0 0 0 0 0 0 0 0 0 0 0 0 0 0 0 0 0 0 0 0 0 0 0 0\n",
       " 0 0 0 0 0 0 0 0 0 0 0 0 0 0 0 0 0 0 0 0 0 0 0 0 0 0 0 0 0 0 0]>"
      ]
     },
     "execution_count": 4,
     "metadata": {},
     "output_type": "execute_result"
    }
   ],
   "source": [
    "g.ep.weight"
   ]
  },
  {
   "cell_type": "code",
   "execution_count": 5,
   "metadata": {
    "collapsed": false
   },
   "outputs": [
    {
     "data": {
      "text/plain": [
       "([<Vertex object with index '1' at 0x7f3640526b88>,\n",
       "  <Vertex object with index '2' at 0x7f3640526b10>,\n",
       "  <Vertex object with index '3' at 0x7f3640526930>,\n",
       "  <Vertex object with index '4' at 0x7f36405265e8>],\n",
       " [<Edge object with source '1' and target '2' at 0x7f364054e318>,\n",
       "  <Edge object with source '2' and target '3' at 0x7f364054e288>,\n",
       "  <Edge object with source '3' and target '4' at 0x7f364054e168>])"
      ]
     },
     "execution_count": 5,
     "metadata": {},
     "output_type": "execute_result"
    }
   ],
   "source": [
    "b.shortest_path(1, 4)"
   ]
  },
  {
   "cell_type": "code",
   "execution_count": 6,
   "metadata": {
    "collapsed": false,
    "scrolled": false
   },
   "outputs": [
    {
     "data": {
      "text/plain": [
       "([<Vertex object with index '1' at 0x7f3640526d68>,\n",
       "  <Vertex object with index '2' at 0x7f3640526cf0>,\n",
       "  <Vertex object with index '3' at 0x7f3640526a20>,\n",
       "  <Vertex object with index '4' at 0x7f3640526a98>],\n",
       " [<Edge object with source '1' and target '2' at 0x7f364054e4c8>,\n",
       "  <Edge object with source '2' and target '3' at 0x7f364054e438>,\n",
       "  <Edge object with source '3' and target '4' at 0x7f364054e3a8>])"
      ]
     },
     "execution_count": 6,
     "metadata": {},
     "output_type": "execute_result"
    }
   ],
   "source": [
    "b.dijkstra_path(1, 4)"
   ]
  }
 ],
 "metadata": {
  "kernelspec": {
   "display_name": "Python 3",
   "language": "python",
   "name": "python3"
  },
  "language_info": {
   "codemirror_mode": {
    "name": "ipython",
    "version": 3
   },
   "file_extension": ".py",
   "mimetype": "text/x-python",
   "name": "python",
   "nbconvert_exporter": "python",
   "pygments_lexer": "ipython3",
   "version": "3.4.3"
  }
 },
 "nbformat": 4,
 "nbformat_minor": 0
}
