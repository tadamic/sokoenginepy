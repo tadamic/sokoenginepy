{
 "cells": [
  {
   "cell_type": "code",
   "execution_count": 1,
   "metadata": {
    "collapsed": true
   },
   "outputs": [],
   "source": [
    "from sokoenginepy.variant import BoardGraph\n",
    "from sokoenginepy import Variant\n",
    "from sokoenginepy.variant import GraphType\n",
    "%load_ext snakeviz\n",
    "\n",
    "%%snakeviz\n",
    "g = BoardGraph(5000, GraphType.DIRECTED)"
   ]
  },
  {
   "cell_type": "code",
   "execution_count": 3,
   "metadata": {
    "collapsed": false
   },
   "outputs": [
    {
     "name": "stdout",
     "output_type": "stream",
     "text": [
      "The snakeviz extension is already loaded. To reload it, use:\n",
      "  %reload_ext snakeviz\n"
     ]
    }
   ],
   "source": [
    "from sokoenginepy.variant import BoardGraph\n",
    "from sokoenginepy import Variant\n",
    "from sokoenginepy.variant import GraphType\n",
    "from sokoenginepy.core import Tessellation\n",
    "%load_ext snakeviz\n",
    "\n",
    "g = BoardGraph(100 * 500, GraphType.DIRECTED)\n",
    "\n",
    "%%snakeviz\n",
    "g.reconfigure_edges(100, 500, Tessellation.factory(Variant.SOKOBAN))"
   ]
  }
 ],
 "metadata": {
  "kernelspec": {
   "display_name": "Python 3",
   "language": "python",
   "name": "python3"
  },
  "language_info": {
   "codemirror_mode": {
    "name": "ipython",
    "version": 3
   },
   "file_extension": ".py",
   "mimetype": "text/x-python",
   "name": "python",
   "nbconvert_exporter": "python",
   "pygments_lexer": "ipython3",
   "version": "3.4.3"
  }
 },
 "nbformat": 4,
 "nbformat_minor": 0
}
