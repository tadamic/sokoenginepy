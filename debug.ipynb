{
 "cells": [
  {
   "cell_type": "code",
   "execution_count": 13,
   "metadata": {
    "collapsed": false
   },
   "outputs": [
    {
     "name": "stdout",
     "output_type": "stream",
     "text": [
      "[(1, 2, {'weight': 0.5}), (1, 2, {'weight': 1.5})]\n",
      "[(1, 2, {'weight': 42}), (1, 2, {'weight': 42})]\n"
     ]
    }
   ],
   "source": [
    "import networkx as nx\n",
    "g=nx.MultiDiGraph()\n",
    "g.add_weighted_edges_from([(1,2,.5), (2,1,.75), (2,3,.5), (1,2,1.5)])\n",
    "g.nodes()\n",
    "g[1][2]\n",
    "print([out_edge for out_edge in g.out_edges_iter(1, data=True)])\n",
    "for out_edge in g.out_edges_iter(1, data=True):\n",
    "    out_edge[2]['weight'] = 42\n",
    "print([out_edge for out_edge in g.out_edges_iter(1, data=True)])"
   ]
  },
  {
   "cell_type": "code",
   "execution_count": 1,
   "metadata": {
    "collapsed": false
   },
   "outputs": [],
   "source": [
    "from sokoengine.variant import VariantBoard, BoardGraph\n",
    "from sokoengine.core import INDEX, X, Y\n",
    "from sokoengine import TessellationType, Direction, BoardCell\n",
    "\n",
    "board_str = \"\\n\".join([\n",
    "    # 123456789012345678\n",
    "    \"    #####\",            # 0\n",
    "    \"    #   #\",            # 1\n",
    "    \"    #$  #\",            # 2\n",
    "    \"  ###  $##\",           # 3\n",
    "    \"  #  $ $ #\",           # 4\n",
    "    \"### # ## #   ######\",  # 5\n",
    "    \"#   # ## #####  ..#\",  # 6\n",
    "    \"# $  $          ..#\",  # 7\n",
    "    \"##### ### #@##  ..#\",  # 8\n",
    "    \"    #     #########\",  # 9\n",
    "    \"    #######\",          # 10\n",
    "])\n",
    "vb = VariantBoard(board_str = board_str)"
   ]
  },
  {
   "cell_type": "code",
   "execution_count": 2,
   "metadata": {
    "collapsed": false
   },
   "outputs": [],
   "source": [
    "src = INDEX(11, 8, 19)\n",
    "dest = INDEX(15, 7, 19)\n",
    "mp = vb.find_move_path(src, dest)\n",
    "jp = vb.find_jump_path(src, 0)\n",
    "dp = vb.position_path_to_direction_path(jp)"
   ]
  },
  {
   "cell_type": "code",
   "execution_count": 3,
   "metadata": {
    "collapsed": false
   },
   "outputs": [
    {
     "name": "stdout",
     "output_type": "stream",
     "text": [
      "4-5#10-|4-#3-#10-|4-#$2-#10-|2-3#2-$2#9-|2-#2-$-$-#9-|3#-#-2#-#3-6#|#3-#-2#-5#2-2.#|#-$2-$10-2.#|5#-3#-#@2#2-2.#|4-#5-9#|4-7#8-\n",
      "\n",
      "\n",
      "----#####----------\n",
      "----#---#----------\n",
      "----#$--#----------\n",
      "--###--$##---------\n",
      "--#--$-$-#---------\n",
      "###-#-##-#---######\n",
      "#---#-##-#####--..#\n",
      "#-$--$----------..#\n",
      "#####-###-#@##--..#\n",
      "----#-----#########\n",
      "----#######--------\n",
      "\n",
      "\n",
      "----#####----------\n",
      "----#---#----------\n",
      "----#$--#----------\n",
      "--###--$##---------\n",
      "--#--$-$-#---------\n",
      "###-#-##-#---######\n",
      "#---#-##-#####--..#\n",
      "#-$--$-----@@@@@..#\n",
      "#####-###-#@##--..#\n",
      "----#-----#########\n",
      "----#######--------\n",
      "\n",
      "\n",
      "@@@@@@###----------\n",
      "----#@@@#----------\n",
      "----#$-@#----------\n",
      "--###--@@@---------\n",
      "--#--$-$-@---------\n",
      "###-#-##-@@@-######\n",
      "#---#-##-##@##--..#\n",
      "#-$--$-----@----..#\n",
      "#####-###-#@##--..#\n",
      "----#-----#########\n",
      "----#######--------\n"
     ]
    }
   ],
   "source": [
    "from sokoengine import OutputSettings\n",
    "output_setings = OutputSettings()\n",
    "output_setings.rle_encode = True\n",
    "print(vb.to_s(output_setings))\n",
    "print(\"\\n\")\n",
    "\n",
    "output_setings.rle_encode = False\n",
    "print(vb.to_s(output_setings))\n",
    "print(\"\\n\")\n",
    "\n",
    "vb._debug_draw_positions(mp)\n",
    "print(\"\\n\")\n",
    "vb._debug_draw_positions(jp)"
   ]
  },
  {
   "cell_type": "code",
   "execution_count": null,
   "metadata": {
    "collapsed": true
   },
   "outputs": [],
   "source": []
  }
 ],
 "metadata": {
  "kernelspec": {
   "display_name": "Python 3",
   "language": "python",
   "name": "python3"
  },
  "language_info": {
   "codemirror_mode": {
    "name": "ipython",
    "version": 3
   },
   "file_extension": ".py",
   "mimetype": "text/x-python",
   "name": "python",
   "nbconvert_exporter": "python",
   "pygments_lexer": "ipython3",
   "version": "3.4.3"
  }
 },
 "nbformat": 4,
 "nbformat_minor": 0
}
