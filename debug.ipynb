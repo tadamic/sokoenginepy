{
 "cells": [
  {
   "cell_type": "code",
   "execution_count": 1,
   "metadata": {
    "collapsed": false
   },
   "outputs": [
    {
     "data": {
      "text/plain": [
       "[(1, 2, {'weight': 0.5})]"
      ]
     },
     "execution_count": 1,
     "metadata": {},
     "output_type": "execute_result"
    }
   ],
   "source": [
    "import networkx as nx\n",
    "g=nx.MultiDiGraph()\n",
    "g.add_weighted_edges_from([(1,2,.5), (2,1,.75), (2,3,.5)])\n",
    "g.nodes()\n",
    "g[1][2]\n",
    "[out_edge for out_edge in g.out_edges_iter(1, data=True)]"
   ]
  },
  {
   "cell_type": "code",
   "execution_count": 2,
   "metadata": {
    "collapsed": false
   },
   "outputs": [],
   "source": [
    "from sokoengine.variant import VariantBoard, BoardGraph\n",
    "from sokoengine.core import INDEX, X, Y\n",
    "from sokoengine import TessellationType, Direction, BoardCell\n",
    "\n",
    "board_str = \"\\n\".join([\n",
    "    # 123456789012345678\n",
    "    \"    #####\",            # 0\n",
    "    \"    #   #\",            # 1\n",
    "    \"    #$  #\",            # 2\n",
    "    \"  ###  $##\",           # 3\n",
    "    \"  #  $ $ #\",           # 4\n",
    "    \"### # ## #   ######\",  # 5\n",
    "    \"#   # ## #####  ..#\",  # 6\n",
    "    \"# $  $          ..#\",  # 7\n",
    "    \"##### ### #@##  ..#\",  # 8\n",
    "    \"    #     #########\",  # 9\n",
    "    \"    #######\",          # 10\n",
    "])\n",
    "vb = VariantBoard(board_str = board_str)"
   ]
  },
  {
   "cell_type": "code",
   "execution_count": 3,
   "metadata": {
    "collapsed": false
   },
   "outputs": [
    {
     "data": {
      "text/plain": [
       "163"
      ]
     },
     "execution_count": 3,
     "metadata": {},
     "output_type": "execute_result"
    }
   ],
   "source": [
    "src = INDEX(11, 8, 19)\n",
    "src"
   ]
  },
  {
   "cell_type": "code",
   "execution_count": 4,
   "metadata": {
    "collapsed": false
   },
   "outputs": [
    {
     "data": {
      "text/plain": [
       "148"
      ]
     },
     "execution_count": 4,
     "metadata": {},
     "output_type": "execute_result"
    }
   ],
   "source": [
    "dest = INDEX(15, 7, 19)\n",
    "dest"
   ]
  },
  {
   "cell_type": "code",
   "execution_count": 5,
   "metadata": {
    "collapsed": false
   },
   "outputs": [],
   "source": [
    "mp = vb.find_move_path(src, dest)"
   ]
  },
  {
   "cell_type": "code",
   "execution_count": 6,
   "metadata": {
    "collapsed": false
   },
   "outputs": [],
   "source": [
    "jp = vb.find_jump_path(src, 0)"
   ]
  },
  {
   "cell_type": "code",
   "execution_count": 7,
   "metadata": {
    "collapsed": false
   },
   "outputs": [],
   "source": [
    "dp = vb.position_path_to_direction_path(jp)"
   ]
  },
  {
   "cell_type": "code",
   "execution_count": 11,
   "metadata": {
    "collapsed": false
   },
   "outputs": [
    {
     "name": "stdout",
     "output_type": "stream",
     "text": [
      "4-5#10-|4-#3-#10-|4-#$2-#10-|2-3#2-$2#9-|2-#2-$-$-#9-|3#-#-2#-#3-6#|#3-#-2#-5#2-2.#|#-$2-$10-2.#|5#-3#-#@2#2-2.#|4-#5-9#|4-7#8-\n",
      "----#####----------\n",
      "----#---#----------\n",
      "----#$--#----------\n",
      "--###--$##---------\n",
      "--#--$-$-#---------\n",
      "###-#-##-#---######\n",
      "#---#-##-#####--..#\n",
      "#-$--$----------..#\n",
      "#####-###-#@##--..#\n",
      "----#-----#########\n",
      "----#######--------\n"
     ]
    }
   ],
   "source": [
    "from sokoengine import OutputSettings\n",
    "output_setings = OutputSettings()\n",
    "output_setings.rle_encode = True\n",
    "print(vb.to_s(output_setings))\n",
    "\n",
    "output_setings.rle_encode = False\n",
    "print(vb.to_s(output_setings))"
   ]
  },
  {
   "cell_type": "code",
   "execution_count": 12,
   "metadata": {
    "collapsed": false
   },
   "outputs": [
    {
     "name": "stdout",
     "output_type": "stream",
     "text": [
      "----#####----------\n",
      "----#---#----------\n",
      "----#$--#----------\n",
      "--###--$##---------\n",
      "--#--$-$-#---------\n",
      "###-#-##-#---######\n",
      "#---#-##-#####--..#\n",
      "#-$--$-----@@@@@..#\n",
      "#####-###-#@##--..#\n",
      "----#-----#########\n",
      "----#######--------\n"
     ]
    }
   ],
   "source": [
    "vb._debug_draw_positions(mp)"
   ]
  }
 ],
 "metadata": {
  "kernelspec": {
   "display_name": "Python 3",
   "language": "python",
   "name": "python3"
  },
  "language_info": {
   "codemirror_mode": {
    "name": "ipython",
    "version": 3
   },
   "file_extension": ".py",
   "mimetype": "text/x-python",
   "name": "python",
   "nbconvert_exporter": "python",
   "pygments_lexer": "ipython3",
   "version": "3.4.3"
  }
 },
 "nbformat": 4,
 "nbformat_minor": 0
}
