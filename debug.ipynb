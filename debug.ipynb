{
 "cells": [
  {
   "cell_type": "code",
   "execution_count": 1,
   "metadata": {
    "collapsed": false
   },
   "outputs": [
    {
     "name": "stdout",
     "output_type": "stream",
     "text": [
      "[(1, 2, {'weight': 0.5}), (1, 2, {'weight': 1.5})]\n",
      "[(1, 2, {'weight': 42}), (1, 2, {'weight': 42})]\n"
     ]
    }
   ],
   "source": [
    "import networkx as nx\n",
    "g=nx.MultiDiGraph()\n",
    "g.add_weighted_edges_from([(1,2,.5), (2,1,.75), (2,3,.5), (1,2,1.5)])\n",
    "g.nodes()\n",
    "g[1][2]\n",
    "print([out_edge for out_edge in g.out_edges_iter(1, data=True)])\n",
    "for out_edge in g.out_edges_iter(1, data=True):\n",
    "    out_edge[2]['weight'] = 42\n",
    "print([out_edge for out_edge in g.out_edges_iter(1, data=True)])"
   ]
  },
  {
   "cell_type": "code",
   "execution_count": 1,
   "metadata": {
    "collapsed": false
   },
   "outputs": [],
   "source": [
    "from sokoengine.variant import VariantBoard, BoardGraph\n",
    "from sokoengine.core import INDEX, X, Y\n",
    "from sokoengine import TessellationType, Direction, BoardCell, OutputSettings\n",
    "\n",
    "board_str = \"\\n\".join([\n",
    "    # 123456789012345678\n",
    "    \"    #####\",            # 0\n",
    "    \"    #   #\",            # 1\n",
    "    \"    #$  #\",            # 2\n",
    "    \"  ###  $##\",           # 3\n",
    "    \"  #  $ $ #\",           # 4\n",
    "    \"### # ## #   ######\",  # 5\n",
    "    \"#   # ## #####  ..#\",  # 6\n",
    "    \"# $  $          ..#\",  # 7\n",
    "    \"##### ### #@##  ..#\",  # 8\n",
    "    \"    #     #########\",  # 9\n",
    "    \"    #######\",          # 10\n",
    "    \"   \",          # 10\n",
    "    \"   \",          # 10\n",
    "    \"   \",          # 10\n",
    "])\n",
    "vb = VariantBoard(board_str = board_str)"
   ]
  },
  {
   "cell_type": "code",
   "execution_count": 2,
   "metadata": {
    "collapsed": false
   },
   "outputs": [
    {
     "name": "stdout",
     "output_type": "stream",
     "text": [
      "----#####----------\n",
      "----#---#----------\n",
      "----#$--#----------\n",
      "--###--$##---------\n",
      "--#--$-$-#---------\n",
      "###-#-##-#---######\n",
      "#---#-##-#####--..#\n",
      "#-$--$----------..#\n",
      "#####-###-#@##--..#\n",
      "----#-----#########\n",
      "----#######--------\n",
      "-------------------\n",
      "-------------------\n",
      "-------------------\n",
      "\n",
      "\n",
      "----#####----------\n",
      "----#---#----------\n",
      "----#$--#----------\n",
      "--###--$##---------\n",
      "--#--$-$-#---------\n",
      "###-#-##-#---######\n",
      "#---#-##-#####--..#\n",
      "#-$--$----------..#\n",
      "#####-###-#@##--..#\n",
      "----#-----#########\n",
      "----#######--------\n"
     ]
    }
   ],
   "source": [
    "print(vb.to_s(OutputSettings(use_visible_floors=True)))\n",
    "print(\"\\n\")\n",
    "vb.trim_bottom()\n",
    "print(vb.to_s(OutputSettings(use_visible_floors=True)))"
   ]
  },
  {
   "cell_type": "code",
   "execution_count": null,
   "metadata": {
    "collapsed": true
   },
   "outputs": [],
   "source": []
  }
 ],
 "metadata": {
  "kernelspec": {
   "display_name": "Python 3",
   "language": "python",
   "name": "python3"
  },
  "language_info": {
   "codemirror_mode": {
    "name": "ipython",
    "version": 3
   },
   "file_extension": ".py",
   "mimetype": "text/x-python",
   "name": "python",
   "nbconvert_exporter": "python",
   "pygments_lexer": "ipython3",
   "version": "3.4.3"
  }
 },
 "nbformat": 4,
 "nbformat_minor": 0
}
