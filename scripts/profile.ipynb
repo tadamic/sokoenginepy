{
 "cells": [
  {
   "cell_type": "code",
   "execution_count": 1,
   "metadata": {
    "collapsed": true
   },
   "outputs": [],
   "source": [
    "%load_ext snakeviz\n",
    "\n",
    "from sokoengine.io import SOKReader, PuzzlesCollection, is_board_string, is_snapshot_string\n",
    "from sokoengine import Variant\n",
    "from sokoengine.core import first_index_of\n",
    "\n",
    "path = \"/home/tomislav/projects/sokoban/cpp_bosp/res/test_data/5000_puzzles.sok\"\n",
    "collection = PuzzlesCollection()\n",
    "\n",
    "input_file = open(path)\n",
    "reader = SOKReader(input_file, collection, Variant.SOKOBAN)"
   ]
  },
  {
   "cell_type": "code",
   "execution_count": 1,
   "metadata": {
    "collapsed": false
   },
   "outputs": [],
   "source": [
    "# %%snakeviz\n",
    "reader.read()\n",
    "\n",
    "input_file.close()"
   ]
  },
  {
   "cell_type": "code",
   "execution_count": 3,
   "metadata": {
    "collapsed": false
   },
   "outputs": [
    {
     "data": {
      "text/plain": [
       "{'board': '#########\\n#  # ...#\\n#  $$#..#\\n#  $  *.#\\n##   $$$#\\n#     #@#\\n#########\\n',\n",
       " 'notes': ['\\n', '<#Author#/>\\n', '\\n', 'Solution/Pushes (Built-in)\\n'],\n",
       " 'snapshots': [{'moves': 'UULuullDDuurrddLruulldLDlddrUdrrULdlluuluurDDurrDLruurrddLddllURUrruullDlDRlulldRurrdddllUUluRdddrruuLruurrddLLddrUluuurrddrdLuuurDlullddRlddrUrUUruLdddlluRdrUUddrUUddlldllluURRRRdrUdlldllUluRRRdrUllllluurDldRRRRRlluLdlluurDldRRRR',\n",
       "   'notes': ['\\n', '\\n', '\"YASGen 2\", by Brian Damgaard\\n', '\\n']}]}"
      ]
     },
     "execution_count": 3,
     "metadata": {},
     "output_type": "execute_result"
    }
   ],
   "source": [
    "reader.puzzles[0]"
   ]
  }
 ],
 "metadata": {
  "kernelspec": {
   "display_name": "Python 3",
   "language": "python",
   "name": "python3"
  },
  "language_info": {
   "codemirror_mode": {
    "name": "ipython",
    "version": 3
   },
   "file_extension": ".py",
   "mimetype": "text/x-python",
   "name": "python",
   "nbconvert_exporter": "python",
   "pygments_lexer": "ipython3",
   "version": "3.4.3"
  }
 },
 "nbformat": 4,
 "nbformat_minor": 0
}
