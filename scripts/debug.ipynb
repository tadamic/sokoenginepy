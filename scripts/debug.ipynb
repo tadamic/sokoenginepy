{
 "cells": [
  {
   "cell_type": "code",
   "execution_count": 1,
   "metadata": {
    "collapsed": false
   },
   "outputs": [],
   "source": [
    "from sokoenginepy.io import SOKReader, PuzzlesCollection, is_board_string, is_snapshot_string, is_blank\n",
    "from sokoenginepy import Variant\n",
    "from sokoenginepy.core import first_index_of\n",
    "\n",
    "path = \"/tmp/Original_and_Extra.sok\"\n",
    "collection = PuzzlesCollection()"
   ]
  },
  {
   "cell_type": "code",
   "execution_count": 2,
   "metadata": {
    "collapsed": false
   },
   "outputs": [],
   "source": [
    "with open(path) as input_file:\n",
    "    reader = SOKReader(input_file, collection, Variant.SOKOBAN)\n",
    "    reader.read()"
   ]
  },
  {
   "cell_type": "code",
   "execution_count": 3,
   "metadata": {
    "collapsed": false
   },
   "outputs": [
    {
     "data": {
      "text/plain": [
       "{'_variant': <Variant.SOKOBAN: 0>,\n",
       " 'created_at': '2007-09-25  20',\n",
       " 'duration': '00',\n",
       " 'id': 1,\n",
       " 'moves': 'ullluuuLUllDlldddrRRRRRRRRRRRRlllllllllllllulldRRRRRRRRRRRRRdrUllllllluuululldDDuulldddrRRRRRRRRRRuRRlDllllllluuulLulDDDuulldddrRRRRRRRRRRdRRlUllllllluuulluuurDDluulDDDDDuulldddrRRRRRRRRRRRllllllluuuLLulDDDuulldddrRRRRRRRRRRuRDldR',\n",
       " 'notes': 'Optimizer: YASS 2.86',\n",
       " 'solver': None,\n",
       " 'title': 'Best Solution 230/97 (YASS 2.86 Optimizer)',\n",
       " 'updated_at': ''}"
      ]
     },
     "execution_count": 3,
     "metadata": {},
     "output_type": "execute_result"
    }
   ],
   "source": [
    "collection.puzzles[0].snapshots[0].__dict__"
   ]
  },
  {
   "cell_type": "code",
   "execution_count": 4,
   "metadata": {
    "collapsed": false
   },
   "outputs": [],
   "source": [
    "collection.save('/tmp/saved.sok')"
   ]
  }
 ],
 "metadata": {
  "kernelspec": {
   "display_name": "Python 3",
   "language": "python",
   "name": "python3"
  },
  "language_info": {
   "codemirror_mode": {
    "name": "ipython",
    "version": 3
   },
   "file_extension": ".py",
   "mimetype": "text/x-python",
   "name": "python",
   "nbconvert_exporter": "python",
   "pygments_lexer": "ipython3",
   "version": "3.4.3"
  }
 },
 "nbformat": 4,
 "nbformat_minor": 0
}
